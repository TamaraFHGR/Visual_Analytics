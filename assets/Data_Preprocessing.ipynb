{
 "cells": [
  {
   "cell_type": "code",
   "id": "initial_id",
   "metadata": {
    "collapsed": true,
    "ExecuteTime": {
     "end_time": "2024-11-17T12:19:07.695797Z",
     "start_time": "2024-11-17T12:19:02.998234Z"
    }
   },
   "source": [
    "import pandas as pd\n",
    "import numpy as np\n",
    "from sklearn.neighbors import NearestNeighbors\n",
    "from timeit import default_timer as timer"
   ],
   "outputs": [],
   "execution_count": 1
  },
  {
   "metadata": {
    "ExecuteTime": {
     "end_time": "2024-11-17T12:19:25.977639Z",
     "start_time": "2024-11-17T12:19:25.906576Z"
    }
   },
   "cell_type": "code",
   "source": [
    "# 1) Load Geodata of 204 IMIS stations (some only collect wind and temperature data, others also snow data):\n",
    "def load_imis_stations():\n",
    "    imis_df = pd.read_csv('Raw_Data/00_SLF_imis_stations.csv', sep=';', skiprows=0)\n",
    "    return imis_df\n",
    "\n",
    "imis_df = load_imis_stations()\n",
    "print(imis_df.head())"
   ],
   "id": "d6aa0c303cc3cdcc",
   "outputs": [
    {
     "name": "stdout",
     "output_type": "stream",
     "text": [
      "   code         station_name        lon        lat  elevation country_code  \\\n",
      "0  DAV2           Bärentälli   9.819411  46.698887       2558           CH   \n",
      "1  VSC1  Piz San Jon Dadaint  10.339132  46.753262       3092           CH   \n",
      "2  MUT2               Mutten   9.017484  46.858757       2481           CH   \n",
      "3  TUM2             Val Miez   9.021468  46.781067       2191           CH   \n",
      "4  GLA2               Guppen   9.037582  46.996628       1632           CH   \n",
      "\n",
      "  canton_code       type  \n",
      "0          GR  SNOW_FLAT  \n",
      "1          GR       WIND  \n",
      "2          GL  SNOW_FLAT  \n",
      "3          GR  SNOW_FLAT  \n",
      "4          GL  SNOW_FLAT  \n"
     ]
    }
   ],
   "execution_count": 2
  },
  {
   "metadata": {
    "ExecuteTime": {
     "end_time": "2024-11-10T14:11:57.283024Z",
     "start_time": "2024-11-10T14:11:57.255230Z"
    }
   },
   "cell_type": "code",
   "source": [
    "# 2) Load historical data of avalanche accidents (3'301 records since 1998):\n",
    "def load_accidents():\n",
    "    acc_df = pd.read_csv('assets/Raw_Data/01_SLF_hist_avalanche_accidents.csv', sep=';',skiprows=0)\n",
    "    return acc_df\n",
    "\n",
    "acc_df = load_accidents()\n",
    "#print(acc_df.head())"
   ],
   "id": "92d9ebdad949af64",
   "outputs": [],
   "execution_count": 27
  },
  {
   "metadata": {
    "ExecuteTime": {
     "end_time": "2024-11-10T14:12:03.675575Z",
     "start_time": "2024-11-10T14:11:57.287019Z"
    }
   },
   "cell_type": "code",
   "source": [
    "# 3) Load historical IMIS weather data:\n",
    "# (Dataset >100MB, too large for GitHub)\n",
    "def load_hist_measurements():\n",
    "    hist_measure_df = pd.read_csv('assets/Raw_Data/02_SLF_hist_daily_measurements.csv', sep=';',skiprows=0)\n",
    "    # Alternatively download from external source:\n",
    "    # import gdown\n",
    "    #url = 'https://drive.google.com/uc?export=download&id=1rPALSGmKxSrNJIYYBlqYvbsSrCo1x7mz'\n",
    "    # output = 'assets/02_SLF_hist_daily_measurements.csv'\n",
    "    # gdown.download(url, output, quiet=False)\n",
    "    # hist_measure_df = pd.read_csv('assets/02_SLF_hist_daily_measurements.csv', sep=';',skiprows=0)\n",
    "    return hist_measure_df\n",
    "\n",
    "hist_measure_df = load_hist_measurements()\n",
    "#print(hist_measure_df.head())"
   ],
   "id": "9e45cbb4f75ffd7c",
   "outputs": [],
   "execution_count": 28
  },
  {
   "metadata": {
    "ExecuteTime": {
     "end_time": "2024-11-10T14:12:06.286158Z",
     "start_time": "2024-11-10T14:12:03.680755Z"
    }
   },
   "cell_type": "code",
   "source": [
    "# 4) Load historical IMIS snow data:\n",
    "def load_hist_snow():\n",
    "    hist_snow_df = pd.read_csv('assets/Raw_Data/03_SLF_hist_daily_snow.csv', sep=';',skiprows=0)\n",
    "    return hist_snow_df\n",
    "\n",
    "hist_snow_df = load_hist_snow()\n",
    "#print(hist_snow_df.head())"
   ],
   "id": "91fe3f4ebc98d0cd",
   "outputs": [],
   "execution_count": 29
  },
  {
   "metadata": {
    "ExecuteTime": {
     "end_time": "2024-11-10T14:12:06.525117Z",
     "start_time": "2024-11-10T14:12:06.288177Z"
    }
   },
   "cell_type": "code",
   "source": [
    "start = timer()\n",
    "\n",
    "# 5) K-NN Model to fill missing elevation data in acc_df based on 3 nearest neighbors:\n",
    "def fill_missing_elevation_with_knn(acc_df, n_neighbors):\n",
    "    # Split data into two sets:\n",
    "    acc_with_elevation = acc_df.dropna(subset=['start_zone_elevation']) # Only rows with elevation data\n",
    "    acc_without_elevation = acc_df[acc_df['start_zone_elevation'].isna()] # Only rows without elevation data\n",
    "\n",
    "    # Fit K-NN model based on data with elevation dataset:\n",
    "    knn = NearestNeighbors(n_neighbors=n_neighbors)\n",
    "    knn.fit(acc_with_elevation[['start_zone_coordinates_latitude', 'start_zone_coordinates_longitude']])\n",
    "\n",
    "    # Find nearest neighbors for dataset without elevation:\n",
    "    distances, indices = knn.kneighbors(\n",
    "        acc_without_elevation[['start_zone_coordinates_latitude', 'start_zone_coordinates_longitude']]\n",
    "    )\n",
    "\n",
    "    # Fill missing elevation data with mean elevation values:\n",
    "    for i, idx in enumerate(acc_without_elevation.index):\n",
    "        neighbor_indices = indices[i]\n",
    "        mean_elevation = round(acc_with_elevation.iloc[neighbor_indices]['start_zone_elevation'].mean(), 2)\n",
    "        acc_df.at[idx, 'start_zone_elevation'] = mean_elevation # Append data to original DataFrame\n",
    "\n",
    "    return acc_df\n",
    "\n",
    "acc_complete_df = fill_missing_elevation_with_knn(acc_df,3)\n",
    "acc_complete_df.to_csv('assets/Raw_Data/01_SLF_hist_avalanche_complete.csv', index=False)\n",
    "print(f\"Runtime: {timer()-start:.2f} s\") # Runtime: 0.22 s"
   ],
   "id": "3d8c3a5773da4143",
   "outputs": [
    {
     "name": "stdout",
     "output_type": "stream",
     "text": [
      "Runtime: 0.22 s\n"
     ]
    }
   ],
   "execution_count": 30
  },
  {
   "metadata": {
    "ExecuteTime": {
     "end_time": "2024-11-10T14:45:36.835811Z",
     "start_time": "2024-11-10T14:31:33.181660Z"
    }
   },
   "cell_type": "code",
   "source": [
    "# 6) Mapp weather and snow data to avalanche accident points:\n",
    "\n",
    "start = timer()\n",
    "# Calculation function to determine distance between two points:\n",
    "def calculate_distance(lt1, ln1, lt2, ln2):\n",
    "    R = 6373.0  \n",
    "    lat1 = np.deg2rad(lt1)\n",
    "    lon1 = np.deg2rad(ln1)\n",
    "    lat2 = np.deg2rad(lt2)\n",
    "    lon2 = np.deg2rad(ln2)\n",
    "    \n",
    "    dlon = lon2 - lon1 \n",
    "    dlat = lat2 - lat1\n",
    "    \n",
    "    a = np.sin(dlat / 2)**2 + np.cos(lat1) * np.cos(lat2) * np.sin(dlon / 2)**2\n",
    "    \n",
    "    c = 2 * np.arcsin(np.sqrt(a))\n",
    "    distance = R * c\n",
    "    return distance\n",
    "\n",
    "# Function to map data:\n",
    "def find_closest_weather_stations(row):\n",
    "    radius = 10 # km\n",
    "    date = row[\"date\"]\n",
    "    latitude = row[\"start_zone_coordinates_latitude\"]\n",
    "    longitude = row[\"start_zone_coordinates_longitude\"]\n",
    "    filtered = hist_measure_df[hist_measure_df['measure_date'] == date]\n",
    "    result = filtered[calculate_distance(latitude, longitude, filtered['imis_latitude'].values, filtered['imis_longitude'].values) <= radius]\n",
    "    row[\"air_temp_mean_stations\"] = result['air_temp_day_mean'].mean()\n",
    "    row[\"wind_speed_mean_stations\"] = result['wind_speed_day_mean'].mean()\n",
    "    row[\"wind_speed_max_stations\"] = result['wind_speed_day_max'].mean()\n",
    "    row[\"snow_surf_temp_mean_stations\"] = result['snow_surf_temp_day_mean'].mean()\n",
    "    row[\"snow_ground_temp_mean_stations\"] = result['snow_ground_temp_day_mean'].mean()\n",
    "    return row\n",
    "\n",
    "acc_mapped_I_df = acc_complete_df.apply(find_closest_weather_stations, axis=1)\n",
    "\n",
    "def find_closest_snow_stations(row):\n",
    "    radius = 10 # km\n",
    "    date = row[\"date\"]\n",
    "    latitude = row[\"start_zone_coordinates_latitude\"]\n",
    "    longitude = row[\"start_zone_coordinates_longitude\"]\n",
    "    filtered = hist_snow_df[hist_snow_df['measure_date'] == date]\n",
    "    result = filtered[calculate_distance(latitude, longitude, filtered['imis_latitude'].values, filtered['imis_longitude'].values) <= radius]\n",
    "    row[\"snow_height_mean_stations\"] = result['snow_height_cm'].mean()\n",
    "    row[\"new_snow_mean_stations\"] = result['new_snow_cm'].mean()\n",
    "    return row\n",
    "\n",
    "acc_mapped_II_df = acc_mapped_I_df.apply(find_closest_snow_stations, axis=1)\n",
    "acc_mapped_II_df.to_csv('assets/01_SLF_hist_statistical_avalanche_data.csv', index=False)\n",
    "print(acc_mapped_II_df.head)\n",
    "print(f\"Runtime: {timer()-start:.2f} s\") # Runtime: 843.62 s\n"
   ],
   "id": "e186571b1e5f7083",
   "outputs": [
    {
     "name": "stdout",
     "output_type": "stream",
     "text": [
      "<bound method NDFrame.head of             date canton   municipality  start_zone_coordinates_latitude  \\\n",
      "0     1998-01-04     GR       Langwies                        46.825069   \n",
      "1     1998-01-04     UR      Andermatt                        46.617104   \n",
      "2     1998-01-08     GR          Davos                        46.733421   \n",
      "3     1998-01-09     GR          Davos                        46.783051   \n",
      "4     1998-01-10     GR        Fideris                        46.852684   \n",
      "...          ...    ...            ...                              ...   \n",
      "3296  2023-05-15     VS        Zermatt                        45.940559   \n",
      "3297  2023-05-17     BE  Lauterbrunnen                        46.534843   \n",
      "3298  2023-05-19     VS        Blatten                        46.486446   \n",
      "3299  2023-05-28     VS    Fieschertal                        46.561817   \n",
      "3300  2023-06-02     VS         Naters                        46.456055   \n",
      "\n",
      "      start_zone_coordinates_longitude  start_zone_elevation  number_dead  \\\n",
      "0                             9.790353                2500.0            0   \n",
      "1                             8.616889                2400.0            1   \n",
      "2                             9.817899                2560.0            0   \n",
      "3                             9.774500                2440.0            0   \n",
      "4                             9.724397                2380.0            0   \n",
      "...                                ...                   ...          ...   \n",
      "3296                          7.747984                4150.0            0   \n",
      "3297                          7.964014                3956.0            1   \n",
      "3298                          7.905786                3657.0            3   \n",
      "3299                          8.012470                3548.0            0   \n",
      "3300                          7.996130                3477.0            1   \n",
      "\n",
      "      number_caught  number_fully_buried  air_temp_mean_stations  \\\n",
      "0                 1                    0               -3.872917   \n",
      "1                 2                    1               -7.047917   \n",
      "2                 1                    0               -5.333333   \n",
      "3                 1                    0               -6.025000   \n",
      "4                 1                    0                     NaN   \n",
      "...             ...                  ...                     ...   \n",
      "3296              2                    0               -1.645833   \n",
      "3297              1                    0               -2.463889   \n",
      "3298              3                    0                     NaN   \n",
      "3299              1                    0                7.649306   \n",
      "3300              1                    1                6.713542   \n",
      "\n",
      "      wind_speed_mean_stations  wind_speed_max_stations  \\\n",
      "0                     1.429167                    11.90   \n",
      "1                     4.382500                    16.24   \n",
      "2                     0.493478                     2.50   \n",
      "3                     0.260000                     2.00   \n",
      "4                          NaN                      NaN   \n",
      "...                        ...                      ...   \n",
      "3296                  0.760417                     3.50   \n",
      "3297                  1.220833                     4.50   \n",
      "3298                       NaN                      NaN   \n",
      "3299                  1.548611                     8.20   \n",
      "3300                  1.272917                     6.70   \n",
      "\n",
      "      snow_surf_temp_mean_stations  snow_ground_temp_mean_stations  \\\n",
      "0                       -11.868750                             NaN   \n",
      "1                       -14.321875                       -0.022917   \n",
      "2                       -17.897917                             NaN   \n",
      "3                       -20.700001                             NaN   \n",
      "4                              NaN                             NaN   \n",
      "...                            ...                             ...   \n",
      "3296                     -3.597917                       -0.200000   \n",
      "3297                     -2.038542                       -0.060417   \n",
      "3298                           NaN                             NaN   \n",
      "3299                      8.913542                        9.670834   \n",
      "3300                      0.260417                       -0.097917   \n",
      "\n",
      "      snow_height_mean_stations  new_snow_mean_stations  \n",
      "0                     79.666667                    4.25  \n",
      "1                     99.000000                   10.10  \n",
      "2                     50.000000                    1.80  \n",
      "3                     86.666667                    0.00  \n",
      "4                    105.000000                    0.00  \n",
      "...                         ...                     ...  \n",
      "3296                 100.500000                    3.90  \n",
      "3297                  50.500000                   12.50  \n",
      "3298                        NaN                     NaN  \n",
      "3299                   5.000000                    0.00  \n",
      "3300                  75.500000                    0.00  \n",
      "\n",
      "[3301 rows x 16 columns]>\n",
      "Runtime: 843.62 s\n"
     ]
    }
   ],
   "execution_count": 32
  },
  {
   "metadata": {
    "ExecuteTime": {
     "end_time": "2024-11-17T12:21:29.212463Z",
     "start_time": "2024-11-17T12:21:29.005773Z"
    }
   },
   "cell_type": "code",
   "source": [
    "# 7) Grouping of alpine regions based on cantons:\n",
    "acc_mapped_III_df = pd.read_csv('assets/01_SLF_hist_statistical_avalanche_data.csv', sep=',', skiprows=0)\n",
    "\n",
    "# Grouping of alpine regions based on cantons:\n",
    "eastern_alps = {\"AI\", \"AR\", \"SG\", \"GR\", \"GL\"}\n",
    "western_alps = {\"VD\", \"FR\", \"GE\", \"NE\", \"JU\", \"BE\"}\n",
    "central_alps = {\"NW\", \"OW\", \"LU\", \"UR\", \"SZ\", \"SO\"}\n",
    "southern_alps = {\"TI\", \"VS\"}\n",
    "\n",
    "def assign_region(canton):\n",
    "    if canton in eastern_alps:\n",
    "        return \"Eastern Alps\"\n",
    "    elif canton in western_alps:\n",
    "        return \"Western Alps\"\n",
    "    elif canton in central_alps:\n",
    "        return \"Central Alps\"\n",
    "    elif canton in southern_alps:\n",
    "        return \"Southern Alps\"\n",
    "    else:\n",
    "        return \"NONE\"\n",
    "\n",
    "# Add new column to DataFrame acc_df:\n",
    "acc_mapped_III_df['alpine_region'] = acc_mapped_III_df['canton'].apply(assign_region)\n",
    "acc_mapped_III_df.to_csv('assets/01_SLF_hist_statistical_avalanche_data.csv', index=False)\n",
    "\n",
    "print(acc_mapped_III_df.head)\n"
   ],
   "id": "1f543186a768fac4",
   "outputs": [
    {
     "name": "stdout",
     "output_type": "stream",
     "text": [
      "<bound method NDFrame.head of             date canton   municipality  start_zone_coordinates_latitude  \\\n",
      "0     1998-01-04     GR       Langwies                        46.825069   \n",
      "1     1998-01-04     UR      Andermatt                        46.617104   \n",
      "2     1998-01-08     GR          Davos                        46.733421   \n",
      "3     1998-01-09     GR          Davos                        46.783051   \n",
      "4     1998-01-10     GR        Fideris                        46.852684   \n",
      "...          ...    ...            ...                              ...   \n",
      "3296  2023-05-15     VS        Zermatt                        45.940559   \n",
      "3297  2023-05-17     BE  Lauterbrunnen                        46.534843   \n",
      "3298  2023-05-19     VS        Blatten                        46.486446   \n",
      "3299  2023-05-28     VS    Fieschertal                        46.561817   \n",
      "3300  2023-06-02     VS         Naters                        46.456055   \n",
      "\n",
      "      start_zone_coordinates_longitude  start_zone_elevation  number_dead  \\\n",
      "0                             9.790353                2500.0            0   \n",
      "1                             8.616889                2400.0            1   \n",
      "2                             9.817899                2560.0            0   \n",
      "3                             9.774500                2440.0            0   \n",
      "4                             9.724397                2380.0            0   \n",
      "...                                ...                   ...          ...   \n",
      "3296                          7.747984                4150.0            0   \n",
      "3297                          7.964014                3956.0            1   \n",
      "3298                          7.905786                3657.0            3   \n",
      "3299                          8.012470                3548.0            0   \n",
      "3300                          7.996130                3477.0            1   \n",
      "\n",
      "      number_caught  number_fully_buried  air_temp_mean_stations  \\\n",
      "0                 1                    0               -3.872917   \n",
      "1                 2                    1               -7.047917   \n",
      "2                 1                    0               -5.333333   \n",
      "3                 1                    0               -6.025000   \n",
      "4                 1                    0                     NaN   \n",
      "...             ...                  ...                     ...   \n",
      "3296              2                    0               -1.645833   \n",
      "3297              1                    0               -2.463889   \n",
      "3298              3                    0                     NaN   \n",
      "3299              1                    0                7.649306   \n",
      "3300              1                    1                6.713542   \n",
      "\n",
      "      wind_speed_mean_stations  wind_speed_max_stations  \\\n",
      "0                     1.429167                    11.90   \n",
      "1                     4.382500                    16.24   \n",
      "2                     0.493478                     2.50   \n",
      "3                     0.260000                     2.00   \n",
      "4                          NaN                      NaN   \n",
      "...                        ...                      ...   \n",
      "3296                  0.760417                     3.50   \n",
      "3297                  1.220833                     4.50   \n",
      "3298                       NaN                      NaN   \n",
      "3299                  1.548611                     8.20   \n",
      "3300                  1.272917                     6.70   \n",
      "\n",
      "      snow_surf_temp_mean_stations  snow_ground_temp_mean_stations  \\\n",
      "0                       -11.868750                             NaN   \n",
      "1                       -14.321875                       -0.022917   \n",
      "2                       -17.897917                             NaN   \n",
      "3                       -20.700001                             NaN   \n",
      "4                              NaN                             NaN   \n",
      "...                            ...                             ...   \n",
      "3296                     -3.597917                       -0.200000   \n",
      "3297                     -2.038542                       -0.060417   \n",
      "3298                           NaN                             NaN   \n",
      "3299                      8.913542                        9.670834   \n",
      "3300                      0.260417                       -0.097917   \n",
      "\n",
      "      snow_height_mean_stations  new_snow_mean_stations  alpine_region  \n",
      "0                     79.666667                    4.25   Eastern Alps  \n",
      "1                     99.000000                   10.10   Central Alps  \n",
      "2                     50.000000                    1.80   Eastern Alps  \n",
      "3                     86.666667                    0.00   Eastern Alps  \n",
      "4                    105.000000                    0.00   Eastern Alps  \n",
      "...                         ...                     ...            ...  \n",
      "3296                 100.500000                    3.90  Southern Alps  \n",
      "3297                  50.500000                   12.50   Western Alps  \n",
      "3298                        NaN                     NaN  Southern Alps  \n",
      "3299                   5.000000                    0.00  Southern Alps  \n",
      "3300                  75.500000                    0.00  Southern Alps  \n",
      "\n",
      "[3301 rows x 17 columns]>\n"
     ]
    }
   ],
   "execution_count": 5
  },
  {
   "metadata": {},
   "cell_type": "code",
   "outputs": [],
   "execution_count": null,
   "source": "\n",
   "id": "4deb7f97e320de08"
  }
 ],
 "metadata": {
  "kernelspec": {
   "display_name": "Python 3",
   "language": "python",
   "name": "python3"
  },
  "language_info": {
   "codemirror_mode": {
    "name": "ipython",
    "version": 2
   },
   "file_extension": ".py",
   "mimetype": "text/x-python",
   "name": "python",
   "nbconvert_exporter": "python",
   "pygments_lexer": "ipython2",
   "version": "2.7.6"
  }
 },
 "nbformat": 4,
 "nbformat_minor": 5
}
